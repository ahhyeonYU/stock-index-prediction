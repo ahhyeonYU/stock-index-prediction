{
 "cells": [
  {
   "cell_type": "code",
   "execution_count": 2,
   "metadata": {},
   "outputs": [],
   "source": [
    "import numpy as np\n",
    "import pandas as pd \n",
    "import yfinance as yf # Yahoo finance 에서 제공하는 데이터에 접근 가능\n",
    "import matplotlib as plt\n",
    "import seaborn as sns"
   ]
  },
  {
   "cell_type": "code",
   "execution_count": 3,
   "metadata": {},
   "outputs": [
    {
     "data": {
      "text/html": [
       "<div>\n",
       "<style scoped>\n",
       "    .dataframe tbody tr th:only-of-type {\n",
       "        vertical-align: middle;\n",
       "    }\n",
       "\n",
       "    .dataframe tbody tr th {\n",
       "        vertical-align: top;\n",
       "    }\n",
       "\n",
       "    .dataframe thead th {\n",
       "        text-align: right;\n",
       "    }\n",
       "</style>\n",
       "<table border=\"1\" class=\"dataframe\">\n",
       "  <thead>\n",
       "    <tr style=\"text-align: right;\">\n",
       "      <th></th>\n",
       "      <th>일자</th>\n",
       "      <th>시가</th>\n",
       "      <th>고가</th>\n",
       "      <th>저가</th>\n",
       "      <th>종가</th>\n",
       "      <th>거래량</th>\n",
       "    </tr>\n",
       "  </thead>\n",
       "  <tbody>\n",
       "    <tr>\n",
       "      <th>count</th>\n",
       "      <td>9.288000e+03</td>\n",
       "      <td>9288.000000</td>\n",
       "      <td>9288.000000</td>\n",
       "      <td>9288.000000</td>\n",
       "      <td>9288.000000</td>\n",
       "      <td>9.288000e+03</td>\n",
       "    </tr>\n",
       "    <tr>\n",
       "      <th>mean</th>\n",
       "      <td>2.001347e+07</td>\n",
       "      <td>11108.556417</td>\n",
       "      <td>11228.754522</td>\n",
       "      <td>10986.106481</td>\n",
       "      <td>11108.235465</td>\n",
       "      <td>1.645823e+07</td>\n",
       "    </tr>\n",
       "    <tr>\n",
       "      <th>std</th>\n",
       "      <td>1.015376e+05</td>\n",
       "      <td>13792.646300</td>\n",
       "      <td>13920.105135</td>\n",
       "      <td>13658.809496</td>\n",
       "      <td>13790.922497</td>\n",
       "      <td>1.701535e+07</td>\n",
       "    </tr>\n",
       "    <tr>\n",
       "      <th>min</th>\n",
       "      <td>1.985010e+07</td>\n",
       "      <td>116.000000</td>\n",
       "      <td>116.000000</td>\n",
       "      <td>115.000000</td>\n",
       "      <td>116.000000</td>\n",
       "      <td>0.000000e+00</td>\n",
       "    </tr>\n",
       "    <tr>\n",
       "      <th>25%</th>\n",
       "      <td>1.992121e+07</td>\n",
       "      <td>624.000000</td>\n",
       "      <td>632.000000</td>\n",
       "      <td>620.000000</td>\n",
       "      <td>623.000000</td>\n",
       "      <td>3.833986e+06</td>\n",
       "    </tr>\n",
       "    <tr>\n",
       "      <th>50%</th>\n",
       "      <td>2.001032e+07</td>\n",
       "      <td>5045.000000</td>\n",
       "      <td>5190.000000</td>\n",
       "      <td>4955.000000</td>\n",
       "      <td>5075.000000</td>\n",
       "      <td>1.199608e+07</td>\n",
       "    </tr>\n",
       "    <tr>\n",
       "      <th>75%</th>\n",
       "      <td>2.010080e+07</td>\n",
       "      <td>15920.000000</td>\n",
       "      <td>16050.000000</td>\n",
       "      <td>15740.000000</td>\n",
       "      <td>15920.000000</td>\n",
       "      <td>2.284080e+07</td>\n",
       "    </tr>\n",
       "    <tr>\n",
       "      <th>max</th>\n",
       "      <td>2.020011e+07</td>\n",
       "      <td>57500.000000</td>\n",
       "      <td>57520.000000</td>\n",
       "      <td>56760.000000</td>\n",
       "      <td>57220.000000</td>\n",
       "      <td>3.266220e+08</td>\n",
       "    </tr>\n",
       "  </tbody>\n",
       "</table>\n",
       "</div>"
      ],
      "text/plain": [
       "                 일자            시가            고가            저가            종가  \\\n",
       "count  9.288000e+03   9288.000000   9288.000000   9288.000000   9288.000000   \n",
       "mean   2.001347e+07  11108.556417  11228.754522  10986.106481  11108.235465   \n",
       "std    1.015376e+05  13792.646300  13920.105135  13658.809496  13790.922497   \n",
       "min    1.985010e+07    116.000000    116.000000    115.000000    116.000000   \n",
       "25%    1.992121e+07    624.000000    632.000000    620.000000    623.000000   \n",
       "50%    2.001032e+07   5045.000000   5190.000000   4955.000000   5075.000000   \n",
       "75%    2.010080e+07  15920.000000  16050.000000  15740.000000  15920.000000   \n",
       "max    2.020011e+07  57500.000000  57520.000000  56760.000000  57220.000000   \n",
       "\n",
       "                거래량  \n",
       "count  9.288000e+03  \n",
       "mean   1.645823e+07  \n",
       "std    1.701535e+07  \n",
       "min    0.000000e+00  \n",
       "25%    3.833986e+06  \n",
       "50%    1.199608e+07  \n",
       "75%    2.284080e+07  \n",
       "max    3.266220e+08  "
      ]
     },
     "execution_count": 3,
     "metadata": {},
     "output_type": "execute_result"
    }
   ],
   "source": [
    "df_price = pd.read_csv('01-삼성전자-주가.csv', encoding='utf8')\n",
    "df_price.describe()"
   ]
  },
  {
   "cell_type": "code",
   "execution_count": 4,
   "metadata": {},
   "outputs": [],
   "source": [
    "pd.to_datetime(df_price['일자'], format='%Y%m%d')\n",
    "\n",
    "df_price['일자'] = pd.to_datetime(df_price['일자'], format='%Y%m%d')\n",
    "df_price['연도'] =df_price['일자'].dt.year\n",
    "df_price['월'] =df_price['일자'].dt.month\n",
    "df_price['일'] =df_price['일자'].dt.day"
   ]
  },
  {
   "cell_type": "code",
   "execution_count": 5,
   "metadata": {},
   "outputs": [
    {
     "ename": "TypeError",
     "evalue": "'module' object is not callable",
     "output_type": "error",
     "traceback": [
      "\u001b[1;31m---------------------------------------------------------------------------\u001b[0m",
      "\u001b[1;31mTypeError\u001b[0m                                 Traceback (most recent call last)",
      "\u001b[1;32m~\\AppData\\Local\\Temp\\ipykernel_33152\\3998220819.py\u001b[0m in \u001b[0;36m<module>\u001b[1;34m\u001b[0m\n\u001b[1;32m----> 1\u001b[1;33m \u001b[0mplt\u001b[0m\u001b[1;33m.\u001b[0m\u001b[0mfigure\u001b[0m\u001b[1;33m(\u001b[0m\u001b[0mfigsize\u001b[0m\u001b[1;33m=\u001b[0m\u001b[1;33m(\u001b[0m\u001b[1;36m16\u001b[0m\u001b[1;33m,\u001b[0m \u001b[1;36m9\u001b[0m\u001b[1;33m)\u001b[0m\u001b[1;33m)\u001b[0m\u001b[1;33m\u001b[0m\u001b[1;33m\u001b[0m\u001b[0m\n\u001b[0m\u001b[0;32m      2\u001b[0m \u001b[0msns\u001b[0m\u001b[1;33m.\u001b[0m\u001b[0mlineplot\u001b[0m\u001b[1;33m(\u001b[0m\u001b[0my\u001b[0m\u001b[1;33m=\u001b[0m\u001b[0mdf\u001b[0m\u001b[1;33m[\u001b[0m\u001b[1;34m'종가'\u001b[0m\u001b[1;33m]\u001b[0m\u001b[1;33m,\u001b[0m \u001b[0mx\u001b[0m\u001b[1;33m=\u001b[0m\u001b[0mdf\u001b[0m\u001b[1;33m[\u001b[0m\u001b[1;34m'일자'\u001b[0m\u001b[1;33m]\u001b[0m\u001b[1;33m)\u001b[0m\u001b[1;33m\u001b[0m\u001b[1;33m\u001b[0m\u001b[0m\n\u001b[0;32m      3\u001b[0m \u001b[0mplt\u001b[0m\u001b[1;33m.\u001b[0m\u001b[0mxlabel\u001b[0m\u001b[1;33m(\u001b[0m\u001b[1;34m'time'\u001b[0m\u001b[1;33m)\u001b[0m\u001b[1;33m\u001b[0m\u001b[1;33m\u001b[0m\u001b[0m\n\u001b[0;32m      4\u001b[0m \u001b[0mplt\u001b[0m\u001b[1;33m.\u001b[0m\u001b[0mylabel\u001b[0m\u001b[1;33m(\u001b[0m\u001b[1;34m'price'\u001b[0m\u001b[1;33m)\u001b[0m\u001b[1;33m\u001b[0m\u001b[1;33m\u001b[0m\u001b[0m\n",
      "\u001b[1;31mTypeError\u001b[0m: 'module' object is not callable"
     ]
    }
   ],
   "source": [
    "plt.figure(figsize=(16, 9))\n",
    "sns.lineplot(y=df['종가'], x=df['일자'])\n",
    "plt.xlabel('time')\n",
    "plt.ylabel('price')"
   ]
  },
  {
   "cell_type": "code",
   "execution_count": 6,
   "metadata": {},
   "outputs": [],
   "source": [
    "df = df_price"
   ]
  },
  {
   "cell_type": "code",
   "execution_count": 7,
   "metadata": {},
   "outputs": [
    {
     "name": "stdout",
     "output_type": "stream",
     "text": [
      "            시가        고가        저가        종가       거래량\n",
      "0     0.968632  0.980489  0.979522  0.975133  0.030291\n",
      "1     0.954691  0.966553  0.961868  0.969880  0.031470\n",
      "2     0.973860  0.983973  0.967164  0.969880  0.047217\n",
      "3     0.965147  0.973521  0.968929  0.964626  0.039781\n",
      "4     0.977346  0.983973  0.981287  0.975133  0.025585\n",
      "...        ...       ...       ...       ...       ...\n",
      "9283  0.000174  0.000174  0.000124  0.000123  0.000995\n",
      "9284  0.000227  0.000226  0.000212  0.000193  0.002587\n",
      "9285  0.000227  0.000244  0.000229  0.000228  0.002363\n",
      "9286  0.000227  0.000226  0.000229  0.000210  0.000332\n",
      "9287  0.000244  0.000244  0.000247  0.000228  0.000342\n",
      "\n",
      "[9288 rows x 5 columns]\n"
     ]
    }
   ],
   "source": [
    "from sklearn.preprocessing import MinMaxScaler\n",
    "\n",
    "scaler = MinMaxScaler()\n",
    "scale_cols = ['시가', '고가', '저가', '종가', '거래량']\n",
    "df_scaled = scaler.fit_transform(df[scale_cols])\n",
    "\n",
    "df_scaled = pd.DataFrame(df_scaled)\n",
    "df_scaled.columns = scale_cols\n",
    "\n",
    "print(df_scaled)"
   ]
  },
  {
   "cell_type": "code",
   "execution_count": 8,
   "metadata": {},
   "outputs": [],
   "source": [
    "window_size = 20\n",
    "#TEST_SIZE = 200"
   ]
  },
  {
   "cell_type": "code",
   "execution_count": 9,
   "metadata": {},
   "outputs": [],
   "source": [
    "train = df_scaled\n",
    "#test = df_scaled[-TEST_SIZE:]"
   ]
  },
  {
   "cell_type": "code",
   "execution_count": 10,
   "metadata": {},
   "outputs": [],
   "source": [
    "def make_dataset(data, label, window_size):\n",
    "    feature_list = []\n",
    "    label_list = []\n",
    "    for i in range(len(data) - window_size):\n",
    "        feature_list.append(np.array(data.iloc[i:i+window_size]))\n",
    "        label_list.append(np.array(label.iloc[i+window_size]))\n",
    "    return np.array(feature_list), np.array(label_list)"
   ]
  },
  {
   "cell_type": "code",
   "execution_count": 11,
   "metadata": {},
   "outputs": [],
   "source": [
    "feature_cols = ['시가', '고가', '저가', '거래량']\n",
    "label_cols = ['종가']\n",
    "\n",
    "train_feature = train[feature_cols]\n",
    "train_label = train[label_cols]\n"
   ]
  },
  {
   "cell_type": "code",
   "execution_count": 12,
   "metadata": {},
   "outputs": [
    {
     "data": {
      "text/plain": [
       "((7414, 20, 4), (1854, 20, 4))"
      ]
     },
     "execution_count": 12,
     "metadata": {},
     "output_type": "execute_result"
    }
   ],
   "source": [
    "\n",
    "# train dataset\n",
    "train_feature, train_label = make_dataset(train_feature, train_label, 20)\n",
    "\n",
    "# train, validation set 생성\n",
    "from sklearn.model_selection import train_test_split\n",
    "x_train, x_valid, y_train, y_valid = train_test_split(train_feature, train_label, test_size=0.2)\n",
    "\n",
    "x_train.shape, x_valid.shape\n",
    "# ((6086, 20, 4), (1522, 20, 4))\n",
    "\n",
    "# test dataset (실제 예측 해볼 데이터)\n",
    "#test_feature = test[feature_cols]\n",
    "#test_feature.reset_index(drop=True, inplace=True)\n",
    "#test_label = test[label_cols]\n",
    "#test_label.reset_index(drop=True, inplace=True)\n",
    "#test_feature, test_label = make_dataset(test_feature, test_label, 20)\n",
    "#test_feature.shape, test_label.shape\n",
    "# ((180, 20, 4), (180, 1))\n"
   ]
  },
  {
   "cell_type": "code",
   "execution_count": 13,
   "metadata": {},
   "outputs": [
    {
     "name": "stderr",
     "output_type": "stream",
     "text": [
      "C:\\Users\\loven\\Anaconda3\\envs\\allocation\\lib\\site-packages\\tensorflow\\python\\framework\\dtypes.py:516: FutureWarning: Passing (type, 1) or '1type' as a synonym of type is deprecated; in a future version of numpy, it will be understood as (type, (1,)) / '(1,)type'.\n",
      "  _np_qint8 = np.dtype([(\"qint8\", np.int8, 1)])\n",
      "C:\\Users\\loven\\Anaconda3\\envs\\allocation\\lib\\site-packages\\tensorflow\\python\\framework\\dtypes.py:517: FutureWarning: Passing (type, 1) or '1type' as a synonym of type is deprecated; in a future version of numpy, it will be understood as (type, (1,)) / '(1,)type'.\n",
      "  _np_quint8 = np.dtype([(\"quint8\", np.uint8, 1)])\n",
      "C:\\Users\\loven\\Anaconda3\\envs\\allocation\\lib\\site-packages\\tensorflow\\python\\framework\\dtypes.py:518: FutureWarning: Passing (type, 1) or '1type' as a synonym of type is deprecated; in a future version of numpy, it will be understood as (type, (1,)) / '(1,)type'.\n",
      "  _np_qint16 = np.dtype([(\"qint16\", np.int16, 1)])\n",
      "C:\\Users\\loven\\Anaconda3\\envs\\allocation\\lib\\site-packages\\tensorflow\\python\\framework\\dtypes.py:519: FutureWarning: Passing (type, 1) or '1type' as a synonym of type is deprecated; in a future version of numpy, it will be understood as (type, (1,)) / '(1,)type'.\n",
      "  _np_quint16 = np.dtype([(\"quint16\", np.uint16, 1)])\n",
      "C:\\Users\\loven\\Anaconda3\\envs\\allocation\\lib\\site-packages\\tensorflow\\python\\framework\\dtypes.py:520: FutureWarning: Passing (type, 1) or '1type' as a synonym of type is deprecated; in a future version of numpy, it will be understood as (type, (1,)) / '(1,)type'.\n",
      "  _np_qint32 = np.dtype([(\"qint32\", np.int32, 1)])\n",
      "C:\\Users\\loven\\Anaconda3\\envs\\allocation\\lib\\site-packages\\tensorflow\\python\\framework\\dtypes.py:525: FutureWarning: Passing (type, 1) or '1type' as a synonym of type is deprecated; in a future version of numpy, it will be understood as (type, (1,)) / '(1,)type'.\n",
      "  np_resource = np.dtype([(\"resource\", np.ubyte, 1)])\n",
      "C:\\Users\\loven\\Anaconda3\\envs\\allocation\\lib\\site-packages\\tensorboard\\compat\\tensorflow_stub\\dtypes.py:541: FutureWarning: Passing (type, 1) or '1type' as a synonym of type is deprecated; in a future version of numpy, it will be understood as (type, (1,)) / '(1,)type'.\n",
      "  _np_qint8 = np.dtype([(\"qint8\", np.int8, 1)])\n",
      "C:\\Users\\loven\\Anaconda3\\envs\\allocation\\lib\\site-packages\\tensorboard\\compat\\tensorflow_stub\\dtypes.py:542: FutureWarning: Passing (type, 1) or '1type' as a synonym of type is deprecated; in a future version of numpy, it will be understood as (type, (1,)) / '(1,)type'.\n",
      "  _np_quint8 = np.dtype([(\"quint8\", np.uint8, 1)])\n",
      "C:\\Users\\loven\\Anaconda3\\envs\\allocation\\lib\\site-packages\\tensorboard\\compat\\tensorflow_stub\\dtypes.py:543: FutureWarning: Passing (type, 1) or '1type' as a synonym of type is deprecated; in a future version of numpy, it will be understood as (type, (1,)) / '(1,)type'.\n",
      "  _np_qint16 = np.dtype([(\"qint16\", np.int16, 1)])\n",
      "C:\\Users\\loven\\Anaconda3\\envs\\allocation\\lib\\site-packages\\tensorboard\\compat\\tensorflow_stub\\dtypes.py:544: FutureWarning: Passing (type, 1) or '1type' as a synonym of type is deprecated; in a future version of numpy, it will be understood as (type, (1,)) / '(1,)type'.\n",
      "  _np_quint16 = np.dtype([(\"quint16\", np.uint16, 1)])\n",
      "C:\\Users\\loven\\Anaconda3\\envs\\allocation\\lib\\site-packages\\tensorboard\\compat\\tensorflow_stub\\dtypes.py:545: FutureWarning: Passing (type, 1) or '1type' as a synonym of type is deprecated; in a future version of numpy, it will be understood as (type, (1,)) / '(1,)type'.\n",
      "  _np_qint32 = np.dtype([(\"qint32\", np.int32, 1)])\n",
      "C:\\Users\\loven\\Anaconda3\\envs\\allocation\\lib\\site-packages\\tensorboard\\compat\\tensorflow_stub\\dtypes.py:550: FutureWarning: Passing (type, 1) or '1type' as a synonym of type is deprecated; in a future version of numpy, it will be understood as (type, (1,)) / '(1,)type'.\n",
      "  np_resource = np.dtype([(\"resource\", np.ubyte, 1)])\n"
     ]
    },
    {
     "name": "stdout",
     "output_type": "stream",
     "text": [
      "WARNING:tensorflow:From C:\\Users\\loven\\Anaconda3\\envs\\allocation\\lib\\site-packages\\tensorflow\\python\\ops\\init_ops.py:1251: calling VarianceScaling.__init__ (from tensorflow.python.ops.init_ops) with dtype is deprecated and will be removed in a future version.\n",
      "Instructions for updating:\n",
      "Call initializer instance with the dtype argument instead of passing it to the constructor\n",
      "WARNING:tensorflow:From C:\\Users\\loven\\Anaconda3\\envs\\allocation\\lib\\site-packages\\tensorflow\\python\\ops\\init_ops.py:97: calling GlorotUniform.__init__ (from tensorflow.python.ops.init_ops) with dtype is deprecated and will be removed in a future version.\n",
      "Instructions for updating:\n",
      "Call initializer instance with the dtype argument instead of passing it to the constructor\n",
      "WARNING:tensorflow:From C:\\Users\\loven\\Anaconda3\\envs\\allocation\\lib\\site-packages\\tensorflow\\python\\ops\\init_ops.py:97: calling Orthogonal.__init__ (from tensorflow.python.ops.init_ops) with dtype is deprecated and will be removed in a future version.\n",
      "Instructions for updating:\n",
      "Call initializer instance with the dtype argument instead of passing it to the constructor\n",
      "WARNING:tensorflow:From C:\\Users\\loven\\Anaconda3\\envs\\allocation\\lib\\site-packages\\tensorflow\\python\\ops\\init_ops.py:97: calling Zeros.__init__ (from tensorflow.python.ops.init_ops) with dtype is deprecated and will be removed in a future version.\n",
      "Instructions for updating:\n",
      "Call initializer instance with the dtype argument instead of passing it to the constructor\n"
     ]
    }
   ],
   "source": [
    "from tensorflow.keras.models import Sequential\n",
    "from tensorflow.keras.layers import Dense, LSTM, Bidirectional \n",
    "from tensorflow.keras.callbacks import EarlyStopping, ModelCheckpoint\n",
    "\n",
    "model = Sequential()\n",
    "model.add(Bidirectional(LSTM(16, \n",
    "               input_shape=(train_feature.shape[1], train_feature.shape[2]), \n",
    "               activation='relu',\n",
    "               return_sequences=False))\n",
    "          )\n",
    "model.add(Dense(1))"
   ]
  },
  {
   "cell_type": "code",
   "execution_count": 14,
   "metadata": {},
   "outputs": [
    {
     "name": "stdout",
     "output_type": "stream",
     "text": [
      "Train on 7414 samples, validate on 1854 samples\n",
      "WARNING:tensorflow:From C:\\Users\\loven\\Anaconda3\\envs\\allocation\\lib\\site-packages\\tensorflow\\python\\ops\\math_grad.py:1250: add_dispatch_support.<locals>.wrapper (from tensorflow.python.ops.array_ops) is deprecated and will be removed in a future version.\n",
      "Instructions for updating:\n",
      "Use tf.where in 2.0, which has the same broadcast rule as np.where\n",
      "Epoch 1/200\n",
      "7344/7414 [============================>.] - ETA: 0s - loss: 2.9295 - acc: 0.0011   \n",
      "Epoch 00001: val_loss improved from inf to 2.98775, saving model to tmp_checkpoint.h5\n",
      "7414/7414 [==============================] - 8s 1ms/sample - loss: 2.9329 - acc: 0.0011 - val_loss: 2.9877 - val_acc: 0.0022\n",
      "Epoch 2/200\n",
      "7408/7414 [============================>.] - ETA: 0s - loss: 2.9323 - acc: 0.0011 \n",
      "Epoch 00002: val_loss did not improve from 2.98775\n",
      "7414/7414 [==============================] - 6s 833us/sample - loss: 2.9329 - acc: 0.0011 - val_loss: 2.9877 - val_acc: 0.0022\n",
      "Epoch 3/200\n",
      "7376/7414 [============================>.] - ETA: 0s - loss: 2.9364 - acc: 0.0011  \n",
      "Epoch 00003: val_loss did not improve from 2.98775\n",
      "7414/7414 [==============================] - 6s 838us/sample - loss: 2.9329 - acc: 0.0011 - val_loss: 2.9877 - val_acc: 0.0022\n",
      "Epoch 4/200\n",
      "7392/7414 [============================>.] - ETA: 0s - loss: 2.9350 - acc: 0.0011 \n",
      "Epoch 00004: val_loss did not improve from 2.98775\n",
      "7414/7414 [==============================] - 7s 885us/sample - loss: 2.9329 - acc: 0.0011 - val_loss: 2.9877 - val_acc: 0.0022\n",
      "Epoch 5/200\n",
      "7344/7414 [============================>.] - ETA: 0s - loss: 2.9324 - acc: 0.0011 \n",
      "Epoch 00005: val_loss improved from 2.98775 to 2.98775, saving model to tmp_checkpoint.h5\n",
      "7414/7414 [==============================] - 6s 864us/sample - loss: 2.9329 - acc: 0.0011 - val_loss: 2.9877 - val_acc: 0.0022\n",
      "Epoch 6/200\n",
      "7392/7414 [============================>.] - ETA: 0s - loss: 2.9297 - acc: 0.0011\n",
      "Epoch 00006: val_loss did not improve from 2.98775\n",
      "7414/7414 [==============================] - 8s 1ms/sample - loss: 2.9329 - acc: 0.0011 - val_loss: 2.9877 - val_acc: 0.0022\n",
      "Epoch 7/200\n",
      "7360/7414 [============================>.] - ETA: 0s - loss: 2.9342 - acc: 0.0011\n",
      "Epoch 00007: val_loss did not improve from 2.98775\n",
      "7414/7414 [==============================] - 7s 1ms/sample - loss: 2.9329 - acc: 0.0011 - val_loss: 2.9877 - val_acc: 0.0022\n",
      "Epoch 8/200\n",
      "7392/7414 [============================>.] - ETA: 0s - loss: 2.9341 - acc: 0.0011- \n",
      "Epoch 00008: val_loss did not improve from 2.98775\n",
      "7414/7414 [==============================] - 8s 1ms/sample - loss: 2.9329 - acc: 0.0011 - val_loss: 2.9877 - val_acc: 0.0022\n",
      "Epoch 9/200\n",
      "7360/7414 [============================>.] - ETA: 0s - loss: 2.9341 - acc: 0.0011  \n",
      "Epoch 00009: val_loss did not improve from 2.98775\n",
      "7414/7414 [==============================] - 7s 983us/sample - loss: 2.9329 - acc: 0.0011 - val_loss: 2.9877 - val_acc: 0.0022\n",
      "Epoch 10/200\n",
      "7392/7414 [============================>.] - ETA: 0s - loss: 2.9274 - acc: 0.0011\n",
      "Epoch 00010: val_loss did not improve from 2.98775\n",
      "7414/7414 [==============================] - 7s 982us/sample - loss: 2.9329 - acc: 0.0011 - val_loss: 2.9877 - val_acc: 0.0022\n"
     ]
    }
   ],
   "source": [
    "model.compile(loss='mean_squared_error', optimizer='adam')\n",
    "early_stop = EarlyStopping(monitor='val_loss', patience=5)\n",
    "filename = os.path.join('tmp_checkpoint.h5')\n",
    "checkpoint = ModelCheckpoint(filename, monitor='val_loss', verbose=1, save_best_only=True, mode='auto')\n",
    "\n",
    "model.compile(optimizer='rmsprop', loss='binary_crossentropy', metrics=['acc'])\n",
    "\n",
    "history = model.fit(x_train, y_train, \n",
    "                    epochs=200, \n",
    "                    batch_size=16,\n",
    "                    validation_data=(x_valid, y_valid), \n",
    "                    callbacks=[early_stop, checkpoint])"
   ]
  },
  {
   "cell_type": "code",
   "execution_count": 1,
   "metadata": {},
   "outputs": [
    {
     "ename": "NameError",
     "evalue": "name 'model' is not defined",
     "output_type": "error",
     "traceback": [
      "\u001b[1;31m---------------------------------------------------------------------------\u001b[0m",
      "\u001b[1;31mNameError\u001b[0m                                 Traceback (most recent call last)",
      "\u001b[1;32m~\\AppData\\Local\\Temp\\ipykernel_33152\\3677377312.py\u001b[0m in \u001b[0;36m<module>\u001b[1;34m\u001b[0m\n\u001b[0;32m      1\u001b[0m \u001b[1;31m# weight 로딩\u001b[0m\u001b[1;33m\u001b[0m\u001b[1;33m\u001b[0m\u001b[1;33m\u001b[0m\u001b[0m\n\u001b[1;32m----> 2\u001b[1;33m \u001b[0mmodel\u001b[0m\u001b[1;33m.\u001b[0m\u001b[0mload_weights\u001b[0m\u001b[1;33m(\u001b[0m\u001b[0mfilename\u001b[0m\u001b[1;33m)\u001b[0m\u001b[1;33m\u001b[0m\u001b[1;33m\u001b[0m\u001b[0m\n\u001b[0m\u001b[0;32m      3\u001b[0m \u001b[1;33m\u001b[0m\u001b[0m\n\u001b[0;32m      4\u001b[0m \u001b[1;31m# 예측\u001b[0m\u001b[1;33m\u001b[0m\u001b[1;33m\u001b[0m\u001b[1;33m\u001b[0m\u001b[0m\n\u001b[0;32m      5\u001b[0m \u001b[0mpred\u001b[0m \u001b[1;33m=\u001b[0m \u001b[0mmodel\u001b[0m\u001b[1;33m.\u001b[0m\u001b[0mpredict\u001b[0m\u001b[1;33m(\u001b[0m\u001b[0my_train\u001b[0m\u001b[1;33m)\u001b[0m\u001b[1;33m\u001b[0m\u001b[1;33m\u001b[0m\u001b[0m\n",
      "\u001b[1;31mNameError\u001b[0m: name 'model' is not defined"
     ]
    }
   ],
   "source": [
    "# weight 로딩\n",
    "model.load_weights(filename)\n",
    "\n",
    "# 예측\n",
    "pred = model.predict(test_feature)"
   ]
  },
  {
   "cell_type": "code",
   "execution_count": null,
   "metadata": {},
   "outputs": [],
   "source": [
    "plt.figure(figsize=(12, 9))\n",
    "plt.plot(test_label, label='actual')\n",
    "plt.plot(pred, label='prediction')\n",
    "plt.legend()\n",
    "plt.show()"
   ]
  }
 ],
 "metadata": {
  "interpreter": {
   "hash": "1511f024a4443f7e5f12ae3dcc5576141864db34ee7c246ddb8e44c131c19028"
  },
  "kernelspec": {
   "display_name": "Python 3.8.12 64-bit ('prediction': conda)",
   "language": "python",
   "name": "python3"
  },
  "language_info": {
   "codemirror_mode": {
    "name": "ipython",
    "version": 3
   },
   "file_extension": ".py",
   "mimetype": "text/x-python",
   "name": "python",
   "nbconvert_exporter": "python",
   "pygments_lexer": "ipython3",
   "version": "3.7.11"
  },
  "orig_nbformat": 4
 },
 "nbformat": 4,
 "nbformat_minor": 2
}
