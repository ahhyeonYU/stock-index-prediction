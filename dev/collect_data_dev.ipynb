{
 "cells": [
  {
   "cell_type": "markdown",
   "metadata": {},
   "source": [
    "# 1. ECOS"
   ]
  },
  {
   "cell_type": "code",
   "execution_count": 2,
   "metadata": {},
   "outputs": [],
   "source": [
    "# packages\n",
    "import pandas as pd\n",
    "import requests \n",
    "import xml.etree.ElementTree as ET\n",
    "import os\n",
    "\n",
    "# set base directory\n",
    "base_dir = 'D:/stock-market-index-prediction'\n",
    "os.chdir(base_dir)"
   ]
  },
  {
   "cell_type": "code",
   "execution_count": 3,
   "metadata": {},
   "outputs": [],
   "source": [
    "# get url list of ecos\n",
    "ecos_dir = './data'\n",
    "ecos_file = 'ecos_url.xlsx'\n",
    "df_ecos = pd.read_excel(f'{ecos_dir}/{ecos_file}')\n",
    "# urls are in the 'target_url' column\n",
    "url_list_ecos = list(df_ecos['target_url'])"
   ]
  },
  {
   "cell_type": "code",
   "execution_count": 4,
   "metadata": {},
   "outputs": [],
   "source": [
    "# get data\n",
    "ecos_df = pd.DataFrame()\n",
    "\n",
    "for idx, url in enumerate(url_list_ecos):\n",
    "    response = requests.get(url)\n",
    "    temp_df = response.json()\n",
    "    # [service name][row]\n",
    "    temp_df = pd.DataFrame(temp_df['StatisticSearch']['row'])\n",
    "    # elimanate unnecessary columns\n",
    "    temp_df = temp_df[['TIME', 'ITEM_NAME1', 'DATA_VALUE']]\n",
    "    item_name = temp_df.loc[0, 'ITEM_NAME1']\n",
    "    temp_df.rename(columns={'DATA_VALUE': item_name}, inplace=True)\n",
    "    temp_df.drop('ITEM_NAME1', axis=1, inplace=True)\n",
    "    \n",
    "    if idx==0:\n",
    "        ecos_df = temp_df\n",
    "    else:\n",
    "        ecos_df = pd.merge(ecos_df, temp_df, on='TIME', how='outer')\n",
    "        break\n",
    "        \n",
    "ecos_df.sort_values('TIME', ascending=True, inplace=True)\n",
    "ecos_df.reset_index(drop=True, inplace=True)"
   ]
  },
  {
   "cell_type": "code",
   "execution_count": 5,
   "metadata": {},
   "outputs": [
    {
     "data": {
      "text/html": [
       "<div>\n",
       "<style scoped>\n",
       "    .dataframe tbody tr th:only-of-type {\n",
       "        vertical-align: middle;\n",
       "    }\n",
       "\n",
       "    .dataframe tbody tr th {\n",
       "        vertical-align: top;\n",
       "    }\n",
       "\n",
       "    .dataframe thead th {\n",
       "        text-align: right;\n",
       "    }\n",
       "</style>\n",
       "<table border=\"1\" class=\"dataframe\">\n",
       "  <thead>\n",
       "    <tr style=\"text-align: right;\">\n",
       "      <th></th>\n",
       "      <th>TIME</th>\n",
       "      <th>한국은행 기준금리</th>\n",
       "      <th>KOSPI_종가</th>\n",
       "    </tr>\n",
       "  </thead>\n",
       "  <tbody>\n",
       "    <tr>\n",
       "      <th>0</th>\n",
       "      <td>199905</td>\n",
       "      <td>4.75</td>\n",
       "      <td>NaN</td>\n",
       "    </tr>\n",
       "    <tr>\n",
       "      <th>1</th>\n",
       "      <td>199906</td>\n",
       "      <td>4.75</td>\n",
       "      <td>NaN</td>\n",
       "    </tr>\n",
       "    <tr>\n",
       "      <th>2</th>\n",
       "      <td>199907</td>\n",
       "      <td>4.75</td>\n",
       "      <td>NaN</td>\n",
       "    </tr>\n",
       "    <tr>\n",
       "      <th>3</th>\n",
       "      <td>199908</td>\n",
       "      <td>4.75</td>\n",
       "      <td>NaN</td>\n",
       "    </tr>\n",
       "    <tr>\n",
       "      <th>4</th>\n",
       "      <td>199909</td>\n",
       "      <td>4.75</td>\n",
       "      <td>NaN</td>\n",
       "    </tr>\n",
       "    <tr>\n",
       "      <th>...</th>\n",
       "      <td>...</td>\n",
       "      <td>...</td>\n",
       "      <td>...</td>\n",
       "    </tr>\n",
       "    <tr>\n",
       "      <th>271</th>\n",
       "      <td>202112</td>\n",
       "      <td>1</td>\n",
       "      <td>2977.65</td>\n",
       "    </tr>\n",
       "    <tr>\n",
       "      <th>272</th>\n",
       "      <td>202201</td>\n",
       "      <td>1.25</td>\n",
       "      <td>2663.34</td>\n",
       "    </tr>\n",
       "    <tr>\n",
       "      <th>273</th>\n",
       "      <td>202202</td>\n",
       "      <td>1.25</td>\n",
       "      <td>2699.18</td>\n",
       "    </tr>\n",
       "    <tr>\n",
       "      <th>274</th>\n",
       "      <td>202203</td>\n",
       "      <td>1.25</td>\n",
       "      <td>2757.65</td>\n",
       "    </tr>\n",
       "    <tr>\n",
       "      <th>275</th>\n",
       "      <td>202204</td>\n",
       "      <td>1.5</td>\n",
       "      <td>NaN</td>\n",
       "    </tr>\n",
       "  </tbody>\n",
       "</table>\n",
       "<p>276 rows × 3 columns</p>\n",
       "</div>"
      ],
      "text/plain": [
       "       TIME 한국은행 기준금리 KOSPI_종가\n",
       "0    199905      4.75      NaN\n",
       "1    199906      4.75      NaN\n",
       "2    199907      4.75      NaN\n",
       "3    199908      4.75      NaN\n",
       "4    199909      4.75      NaN\n",
       "..      ...       ...      ...\n",
       "271  202112         1  2977.65\n",
       "272  202201      1.25  2663.34\n",
       "273  202202      1.25  2699.18\n",
       "274  202203      1.25  2757.65\n",
       "275  202204       1.5      NaN\n",
       "\n",
       "[276 rows x 3 columns]"
      ]
     },
     "execution_count": 5,
     "metadata": {},
     "output_type": "execute_result"
    }
   ],
   "source": [
    "ecos_df"
   ]
  },
  {
   "cell_type": "code",
   "execution_count": null,
   "metadata": {},
   "outputs": [],
   "source": []
  }
 ],
 "metadata": {
  "interpreter": {
   "hash": "1511f024a4443f7e5f12ae3dcc5576141864db34ee7c246ddb8e44c131c19028"
  },
  "kernelspec": {
   "display_name": "Python 3.8.12 64-bit ('prediction': conda)",
   "language": "python",
   "name": "python3"
  },
  "language_info": {
   "codemirror_mode": {
    "name": "ipython",
    "version": 3
   },
   "file_extension": ".py",
   "mimetype": "text/x-python",
   "name": "python",
   "nbconvert_exporter": "python",
   "pygments_lexer": "ipython3",
   "version": "3.7.11"
  },
  "orig_nbformat": 4
 },
 "nbformat": 4,
 "nbformat_minor": 2
}
